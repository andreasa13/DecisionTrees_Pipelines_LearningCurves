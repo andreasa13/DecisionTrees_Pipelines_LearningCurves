{
 "cells": [
  {
   "cell_type": "markdown",
   "metadata": {},
   "source": [
    "## About iPython Notebooks ##\n",
    "\n",
    "iPython Notebooks are interactive coding environments embedded in a webpage. You will be using iPython notebooks in this class. Make sure you fill in any place that says `# BEGIN CODE HERE #END CODE HERE`. After writing your code, you can run the cell by either pressing \"SHIFT\"+\"ENTER\" or by clicking on \"Run\" (denoted by a play symbol). Before you turn this problem in, make sure everything runs as expected. First, **restart the kernel** (in the menubar, select Kernel$\\rightarrow$Restart) and then **run all cells** (in the menubar, select Cell$\\rightarrow$Run All). \n",
    "\n",
    " **What you need to remember:**\n",
    "\n",
    "- Run your cells using SHIFT+ENTER (or \"Run cell\")\n",
    "- Write code in the designated areas using Python 3 only\n",
    "- Do not modify the code outside of the designated areas\n",
    "- In some cases you will also need to explain the results. There will also be designated areas for that. \n",
    "\n",
    "Fill in your **NAME** and **AEM** below:"
   ]
  },
  {
   "cell_type": "code",
   "execution_count": 1,
   "metadata": {},
   "outputs": [],
   "source": [
    "NAME = \"Andreas Andreadis\"\n",
    "AEM = 2729"
   ]
  },
  {
   "cell_type": "markdown",
   "metadata": {},
   "source": [
    "---"
   ]
  },
  {
   "cell_type": "markdown",
   "metadata": {
    "deletable": false,
    "editable": false,
    "nbgrader": {
     "cell_type": "markdown",
     "checksum": "ce63642cafb413e7903d83d2f2cd3637",
     "grade": false,
     "grade_id": "cell-f62db6dce1ed3f2e",
     "locked": true,
     "schema_version": 3,
     "solution": false,
     "task": false
    }
   },
   "source": [
    "# Assignment 2 - Decision Trees #"
   ]
  },
  {
   "cell_type": "markdown",
   "metadata": {
    "deletable": false,
    "editable": false,
    "nbgrader": {
     "cell_type": "markdown",
     "checksum": "29d61ce286fdb8fd61c7f8e89a9e1339",
     "grade": false,
     "grade_id": "cell-dce2e73cee9a5017",
     "locked": true,
     "schema_version": 3,
     "solution": false,
     "task": false
    }
   },
   "source": [
    "Welcome to your second assignment. This exercise gives you an introduction to [scikit-learn](https://scikit-learn.org/stable/). A simple but efficient machine learning library in Python. It also gives you a wide understanding on how decision trees work. "
   ]
  },
  {
   "cell_type": "markdown",
   "metadata": {
    "deletable": false,
    "editable": false,
    "nbgrader": {
     "cell_type": "markdown",
     "checksum": "50a108d2f1e1a1ee2fde80743c0543fe",
     "grade": false,
     "grade_id": "cell-83ca2b0456fb85db",
     "locked": true,
     "schema_version": 3,
     "solution": false,
     "task": false
    }
   },
   "source": [
    "After this assignment you will:\n",
    "- Be able to use the scikit-learn library and train your own model from scratch.\n",
    "- Be able to train and understand decision trees."
   ]
  },
  {
   "cell_type": "code",
   "execution_count": 2,
   "metadata": {
    "deletable": false,
    "editable": false,
    "nbgrader": {
     "cell_type": "code",
     "checksum": "396c39a0797964c378ebb90cf18a29de",
     "grade": false,
     "grade_id": "cell-2cef6d48eea484d8",
     "locked": true,
     "schema_version": 3,
     "solution": false,
     "task": false
    }
   },
   "outputs": [],
   "source": [
    "# Always run this cell\n",
    "import numpy as np\n",
    "import pandas as pd\n",
    "from sklearn.datasets import load_breast_cancer\n",
    "from sklearn.model_selection import train_test_split\n",
    "from sklearn.tree import DecisionTreeClassifier\n",
    "from sklearn.metrics import f1_score\n",
    "import unittest\n",
    "\n",
    "# USE THIS RANDOM VARIABLE TO PRODUCE THE SAME RESULTS\n",
    "RANDOM_VARIABLE = 42"
   ]
  },
  {
   "cell_type": "markdown",
   "metadata": {},
   "source": [
    "## 1. Scikit-Learn and Decision Trees ##\n",
    "\n",
    "You are going to use the scikit-learn library to train a model for detecting breast cancer using the [Breast cancer wisconsin (diagnostic) dataset](https://scikit-learn.org/stable/datasets/index.html#breast-cancer-wisconsin-diagnostic-dataset) by training a model using [decision trees](https://scikit-learn.org/stable/modules/tree.html)."
   ]
  },
  {
   "cell_type": "markdown",
   "metadata": {},
   "source": [
    "**1.1** Load the breast cancer dataset using the scikit learn library and split the dataset into train and test set using the appropriate function. Use 30% of the dataset as the test set. Define as X the attributes and as y the target values. Do not forget to set the random_state parameter as the *RANDOM_VARIABLE* defined above. Use this variable for all the random_state parameters in this assignment."
   ]
  },
  {
   "cell_type": "code",
   "execution_count": 3,
   "metadata": {
    "deletable": false,
    "nbgrader": {
     "cell_type": "code",
     "checksum": "4b873328ea05f6ef9c08827168c7b835",
     "grade": false,
     "grade_id": "cell-1f0c2f3918333cf6",
     "locked": false,
     "schema_version": 3,
     "solution": true,
     "task": false
    }
   },
   "outputs": [],
   "source": [
    "# BEGIN CODE HERE\n",
    "X, y = load_breast_cancer(return_X_y=True)\n",
    "X_train,X_test,y_train,y_test = train_test_split(X, y, test_size=0.3, random_state=RANDOM_VARIABLE)\n",
    "\n",
    "#END CODE HERE"
   ]
  },
  {
   "cell_type": "code",
   "execution_count": 4,
   "metadata": {
    "deletable": false,
    "editable": false,
    "nbgrader": {
     "cell_type": "code",
     "checksum": "3603b2ba8916ffdad9e9c53f31546b4c",
     "grade": true,
     "grade_id": "cell-3f43c895ceaf57a9",
     "locked": true,
     "points": 2,
     "schema_version": 3,
     "solution": false,
     "task": false
    }
   },
   "outputs": [
    {
     "name": "stdout",
     "output_type": "stream",
     "text": [
      "Size of train set:398\n",
      "Size of test set:171\n",
      "Unique classes:2\n"
     ]
    }
   ],
   "source": [
    "print(\"Size of train set:{}\".format(len(y_train)))\n",
    "print(\"Size of test set:{}\".format(len(y_test)))\n",
    "print(\"Unique classes:{}\".format(len(set(y_test))))"
   ]
  },
  {
   "cell_type": "markdown",
   "metadata": {
    "deletable": false,
    "editable": false,
    "nbgrader": {
     "cell_type": "markdown",
     "checksum": "62285a7bd3ab59718b89f7e09de0fea4",
     "grade": false,
     "grade_id": "cell-1ce621a108e76a15",
     "locked": true,
     "schema_version": 3,
     "solution": false,
     "task": false
    }
   },
   "source": [
    "**Expected output**:  \n",
    "Size of train set:398  \n",
    "Size of test set:171  \n",
    "Unique classes:2  "
   ]
  },
  {
   "cell_type": "markdown",
   "metadata": {},
   "source": [
    "**1.2** Train two DecisionTree classifiers and report the F1 score. Use the information gain for the one classifier and the Gini impurity for the other"
   ]
  },
  {
   "cell_type": "code",
   "execution_count": 5,
   "metadata": {
    "deletable": false,
    "nbgrader": {
     "cell_type": "code",
     "checksum": "17197b62614427a979fcbab7ed2734dd",
     "grade": false,
     "grade_id": "cell-a7fa1d29509eb2a1",
     "locked": false,
     "schema_version": 3,
     "solution": true,
     "task": false
    }
   },
   "outputs": [],
   "source": [
    "# BEGIN CODE HERE\n",
    "classifier_gini = DecisionTreeClassifier(criterion='gini', random_state=RANDOM_VARIABLE)\n",
    "classifier_igain = DecisionTreeClassifier(criterion='entropy', random_state=RANDOM_VARIABLE)\n",
    "\n",
    "classifier_gini = classifier_gini.fit(X_train,y_train)\n",
    "classifier_igain = classifier_igain.fit(X_train,y_train)\n",
    "\n",
    "prediction_gini = classifier_gini.predict(X_test)\n",
    "prediction_igain = classifier_igain.predict(X_test)\n",
    "\n",
    "f_measure_gini = f1_score(y_test, prediction_gini)\n",
    "f_measure_igain = f1_score(y_test, prediction_igain)\n",
    "\n",
    "#END CODE HERE"
   ]
  },
  {
   "cell_type": "code",
   "execution_count": 6,
   "metadata": {
    "deletable": false,
    "editable": false,
    "nbgrader": {
     "cell_type": "code",
     "checksum": "6d9aab4355c27c346f7e6548f233e758",
     "grade": true,
     "grade_id": "cell-09657a82bf4028c4",
     "locked": true,
     "points": 3,
     "schema_version": 3,
     "solution": false,
     "task": false
    }
   },
   "outputs": [
    {
     "name": "stdout",
     "output_type": "stream",
     "text": [
      "F-Measure Gini:0.9528301886792453\n",
      "F-Measure Information Gain:0.9724770642201834\n"
     ]
    }
   ],
   "source": [
    "print(\"F-Measure Gini:{}\".format(f_measure_gini))\n",
    "print(\"F-Measure Information Gain:{}\".format(f_measure_igain))"
   ]
  },
  {
   "cell_type": "markdown",
   "metadata": {
    "deletable": false,
    "editable": false,
    "nbgrader": {
     "cell_type": "markdown",
     "checksum": "f3facbbef0dd8f25ad12bfec7c174818",
     "grade": false,
     "grade_id": "cell-b0d8630f3b764cf3",
     "locked": true,
     "schema_version": 3,
     "solution": false,
     "task": false
    }
   },
   "source": [
    "**Expected output**:  \n",
    "F-Measure Gini:0.9528301886792453  \n",
    "F-Measure Information Gain:0.9724770642201834  \n"
   ]
  },
  {
   "cell_type": "markdown",
   "metadata": {
    "deletable": false,
    "editable": false,
    "nbgrader": {
     "cell_type": "markdown",
     "checksum": "f2532168d16e8c9bffba3d7d8e1efce7",
     "grade": false,
     "grade_id": "cell-591ba122016b6db5",
     "locked": true,
     "schema_version": 3,
     "solution": false,
     "task": false
    }
   },
   "source": [
    "**1.3** Find the maximum depth reached by the tree that used the Gini impurity. Train multiple classifier by modifying the max_depth within the range from 1 to maximum depth and save the f1 scores to lists.  "
   ]
  },
  {
   "cell_type": "code",
   "execution_count": 7,
   "metadata": {
    "deletable": false,
    "nbgrader": {
     "cell_type": "code",
     "checksum": "54cf257e90a3cb5877db81297bedd45c",
     "grade": false,
     "grade_id": "cell-31c58b6161a3907d",
     "locked": false,
     "schema_version": 3,
     "solution": true,
     "task": false
    }
   },
   "outputs": [],
   "source": [
    "# BEGIN CODE HERE\n",
    "depth = classifier_gini.tree_.max_depth\n",
    "fscores_train = []\n",
    "fscores_test = []\n",
    "for d in range(1,depth+1):\n",
    "    dt_classifier = DecisionTreeClassifier(criterion='gini', random_state=RANDOM_VARIABLE, max_depth=d)\n",
    "    dt_classifier.fit(X_train, y_train)\n",
    "    y_train_pred = dt_classifier.predict(X_train)\n",
    "    y_test_pred = dt_classifier.predict(X_test)\n",
    "    f_measure_train = f1_score(y_train, y_train_pred)\n",
    "    f_measure_test = f1_score(y_test, y_test_pred)\n",
    "    fscores_train.append(f_measure_train)\n",
    "    fscores_test.append(f_measure_test)\n",
    "\n",
    "#END CODE HERE"
   ]
  },
  {
   "cell_type": "code",
   "execution_count": 8,
   "metadata": {
    "deletable": false,
    "editable": false,
    "nbgrader": {
     "cell_type": "code",
     "checksum": "70a249937f2f690c6ce855debaed204c",
     "grade": true,
     "grade_id": "cell-0c300109423f53b9",
     "locked": true,
     "points": 5,
     "schema_version": 3,
     "solution": false,
     "task": false
    }
   },
   "outputs": [
    {
     "name": "stdout",
     "output_type": "stream",
     "text": [
      "Fscores Train:[0.9392712550607287, 0.9533468559837729, 0.9761904761904762, 0.996, 0.996, 0.9979959919839679, 1.0]\n",
      "Fscores Test:[0.9150943396226415, 0.9444444444444444, 0.9724770642201834, 0.9629629629629629, 0.9629629629629629, 0.9674418604651163, 0.9528301886792453]\n"
     ]
    }
   ],
   "source": [
    "print(\"Fscores Train:{}\".format(fscores_train))\n",
    "print(\"Fscores Test:{}\".format(fscores_test))\n"
   ]
  },
  {
   "cell_type": "markdown",
   "metadata": {
    "deletable": false,
    "editable": false,
    "nbgrader": {
     "cell_type": "markdown",
     "checksum": "3db472d2b9db7a42cc012cd96fdeb499",
     "grade": false,
     "grade_id": "cell-75789627f20d2c94",
     "locked": true,
     "schema_version": 3,
     "solution": false,
     "task": false
    }
   },
   "source": [
    "**Expected output**:  \n",
    "Fscores Train:[0.9392712550607287, 0.9533468559837729, 0.9761904761904762, 0.996, 0.996, 0.9979959919839679, 1.0]  \n",
    "Fscores Test:[0.9150943396226415, 0.9444444444444444, 0.9724770642201834, 0.9629629629629629, 0.9629629629629629, 0.9674418604651163, 0.9528301886792453]\n",
    "\n"
   ]
  },
  {
   "cell_type": "markdown",
   "metadata": {
    "deletable": false,
    "editable": false,
    "nbgrader": {
     "cell_type": "markdown",
     "checksum": "bca7d4c160c767d27a09b4620d27d56e",
     "grade": false,
     "grade_id": "cell-5906e6d5efa70282",
     "locked": true,
     "schema_version": 3,
     "solution": false,
     "task": false
    }
   },
   "source": [
    "**1.4** Compare the results from the train set with the results from the test set. What do you notice? Explain your findings. How are you going to choose the max_depth of your model?"
   ]
  },
  {
   "cell_type": "markdown",
   "metadata": {
    "deletable": false,
    "nbgrader": {
     "cell_type": "markdown",
     "checksum": "424ac10e4e22ca9e32207deee3bf0f57",
     "grade": true,
     "grade_id": "cell-c9c6ea0e40d98b83",
     "locked": false,
     "points": 5,
     "schema_version": 3,
     "solution": true,
     "task": false
    }
   },
   "source": [
    "Μπορούμε εύκολα να παρατηρήσουμε ότι ενώ το F1 score για τα train data αυξάνεται όσο αυξάνεται και το max_depth, για τα test data αυξάνεται μέχρι ένα συγκεκριμένο σημείο (max_depth = 3) που είναι το peak και στη συνέχεια ελαττώνεται. Αυτό συμβαίνει διότι όσο μεγαλύτερο το βάθος τόσο πιο σύνθετο και το δέντρο που έχουμε φτιάξει. Ο classifier έχει προσαρμοστεί με μεγάλη ακρίβεια στα train data και χάνει τη δυνατότητα να κάνει εξίσου καλές προβλέψεις για άγνωστα δεδομένα. Έτσι εμφανίζεται το φαινόμενο του overfitting.\n",
    "\n",
    "Για max_depth θα διάλεγα την τιμή **max_depth = 3**, για την οποία στο συγκεκριμένο παράδειγμα ο classifier αποδίδει εξίσου καλά τόσο για τα train όσο και για τα test δεδομένα.\n"
   ]
  },
  {
   "cell_type": "markdown",
   "metadata": {
    "deletable": false,
    "editable": false,
    "nbgrader": {
     "cell_type": "markdown",
     "checksum": "217666fcc2e383d6f2c1904c9d6a71be",
     "grade": false,
     "grade_id": "cell-9ef42e6c90ea2ffe",
     "locked": true,
     "schema_version": 3,
     "solution": false,
     "task": false
    }
   },
   "source": [
    "## 2.0 Pipelines ##\n",
    "\n",
    "**2.1** In this part of the exercise you are going to build a pipeline from scratch for a classification problem. Load the **income.csv** file and train a DecisionTree model that will predict the *income* variable. This dataset is a modification of the original Adult Income dataset found [here](http://archive.ics.uci.edu/ml/datasets/Adult). Report the f1-score and accuracy score of the test set found in **income_test.csv**. Your pipeline should be able to handle missing values and categorical features (scikit-learn's decision trees do not handle categorical values). You can preprocess the dataset as you like in order to achieve higher scores.  "
   ]
  },
  {
   "cell_type": "code",
   "execution_count": 9,
   "metadata": {
    "deletable": false,
    "nbgrader": {
     "cell_type": "code",
     "checksum": "152ab2dd6861b198b879a78ebadc4ee4",
     "grade": true,
     "grade_id": "cell-dd950ab2eb40d8a4",
     "locked": false,
     "points": 45,
     "schema_version": 3,
     "solution": true,
     "task": false
    }
   },
   "outputs": [
    {
     "name": "stdout",
     "output_type": "stream",
     "text": [
      "Optimal parameters:  {'classifier__criterion': 'gini', 'classifier__max_depth': 9, 'preprocessor__num__imputer__strategy': 'mean'}\n",
      "Accuracy:  0.8519098922624878\n",
      "F1 Score:  0.6428346456692914\n"
     ]
    }
   ],
   "source": [
    "# BEGIN CODE HERE\n",
    "from sklearn.pipeline import Pipeline\n",
    "from sklearn.metrics import accuracy_score, f1_score\n",
    "from sklearn.compose import ColumnTransformer\n",
    "from sklearn.impute import SimpleImputer\n",
    "from sklearn.preprocessing import StandardScaler, OneHotEncoder, LabelEncoder, MinMaxScaler\n",
    "from sklearn.model_selection import GridSearchCV\n",
    "\n",
    "# read the data\n",
    "df = pd.read_csv(\"income.csv\")\n",
    "df_test = pd.read_csv(\"income_test.csv\")\n",
    "\n",
    "# create X_train, y_train, X_test, y_test dataframes\n",
    "X_train = df.drop(columns='income', axis=1)\n",
    "y_train = df['income']\n",
    "\n",
    "X_test = df_test.drop(columns='income', axis=1)\n",
    "y_test = df_test['income']\n",
    "\n",
    "# convert class labels to 0,1 (necessary for f1_score computation)\n",
    "le = LabelEncoder()\n",
    "le.fit(y_train)\n",
    "y_train = le.transform(y_train)\n",
    "y_test = le.transform(y_test)\n",
    "\n",
    "# drop rows that include at least one missing value \n",
    "# df.head(5)\n",
    "# print(df.dtypes)\n",
    "# print(df.size)\n",
    "# df = df.dropna(how='any')\n",
    "# print(df.size)\n",
    "\n",
    "# Decision Tree classifier \n",
    "dt = DecisionTreeClassifier(random_state=RANDOM_VARIABLE)\n",
    "\n",
    "# numeric features transformation\n",
    "numeric_features = df.select_dtypes('int64').columns.tolist()\n",
    "# 1st step: simple imputer for missing values handling\n",
    "# 2nd step: Scaling\n",
    "numeric_transformer = Pipeline(steps=[\n",
    "    ('imputer', SimpleImputer(strategy='median')),\n",
    "    ('scaler', MinMaxScaler())])\n",
    "\n",
    "# categorical features transformation\n",
    "categorical_features = df.select_dtypes('object').columns.tolist()\n",
    "# remove the class label from the list\n",
    "categorical_features.remove('income')\n",
    "# 1st step: simple imputer for missing values handling\n",
    "# 2nd step: One-hot encoding\n",
    "categorical_transformer = Pipeline(steps=[\n",
    "    ('imputer', SimpleImputer(strategy='constant', fill_value='missing')),\n",
    "    ('onehot', OneHotEncoder(handle_unknown='ignore'))])\n",
    "\n",
    "# column transformer\n",
    "preprocessor = ColumnTransformer(\n",
    "    transformers=[\n",
    "         ('num', numeric_transformer, numeric_features),\n",
    "        ('cat', categorical_transformer, categorical_features)])\n",
    "\n",
    "# final pipeline\n",
    "clf = Pipeline(steps=[('preprocessor', preprocessor),\n",
    "                      ('classifier', dt)])\n",
    "\n",
    "# parameter optimization with GridSearch\n",
    "param_grid = {\n",
    "    'preprocessor__num__imputer__strategy': ['mean', 'median'],\n",
    "    'classifier__criterion' : ['gini', 'entropy'],\n",
    "    'classifier__max_depth': [2,3,4,5,6,7,8,9,10]\n",
    "}\n",
    "\n",
    "# 5-fold cross-validation \n",
    "grid_search = GridSearchCV(clf, param_grid, cv=5)\n",
    "\n",
    "# fitting train data\n",
    "grid_search.fit(X_train, y_train)\n",
    "\n",
    "# best parameters\n",
    "print(\"Optimal parameters: \", grid_search.best_params_)\n",
    "\n",
    "# predictions for X_test\n",
    "y_pred = grid_search.predict(X_test)\n",
    "\n",
    "# accuracy report\n",
    "accScore = accuracy_score(y_test, y_pred)\n",
    "print(\"Accuracy: \", accScore)\n",
    "\n",
    "# f1 score report\n",
    "fScore = f1_score(y_test, y_pred)\n",
    "print(\"F1 Score: \", fScore)    \n",
    "\n",
    "#END CODE HERE"
   ]
  },
  {
   "cell_type": "markdown",
   "metadata": {
    "deletable": false,
    "editable": false,
    "nbgrader": {
     "cell_type": "markdown",
     "checksum": "ee9d4c2635307395bdef2efb941106ae",
     "grade": false,
     "grade_id": "cell-2c3327274958bbad",
     "locked": true,
     "points": 20,
     "schema_version": 3,
     "solution": false,
     "task": true
    }
   },
   "source": [
    "**2.2** Describe the process you followed to achieve the results above. Your description should include, but is not limited to the following \n",
    "- How do you handle missing values and why\n",
    "- How do you handle categorical variables and why\n",
    "- Any further preprocessing steps\n",
    "- How do you evaluate your model and how did you choose its parameters \n",
    "- Report any additional results and comments on your approach."
   ]
  },
  {
   "cell_type": "markdown",
   "metadata": {},
   "source": [
    "Το τελικό **pipeline** που δημιουργησα αποτελείται απο δυο steps:\n",
    "\n",
    "- **1st step: preprocessing**\n",
    "        \n",
    "   Το κομμάτι του preprocessing αποτελείται απο 2 επιμέρους pipelines στα οποία ακολουθείται διαφορετική διαδικασία για τα numeric και τα categorical features αντίστοιχα.\n",
    "\n",
    "    Στα numeric features με τον SimpleImputer αντικαθιστούμε τυχόν missing values με τον μέσο όρο ή τη διάμεσο του αντίστοιχου feature/column, ενω στη συνέχεια εφαρμόζουμε και scaling στα δεδομένα με τον MinMaxScaler.\n",
    "\n",
    "    Στα categorical features με τον SimpleImputer αναθέτουμε στα missing values μια νέα τιμή \"missing\" δημιουργώντας στην ουσία μια ξεχωριστή κατηγορία. Έπειτα, εφαρμόζουμε One-Hot Encoding στα categorical features προκειμένου να τα μετατρέψουμε σε binary vectors και να μπορούμε να τα διαχειριστούμε στο επόμενο βήμα με τον DecisionTree classifier.\n",
    "\n",
    "**Παρατήρηση**: Επειδή στο συγκεκριμένο παράδειγμα τα missing values είναι πολύ λίγα σχετικά με το συνολικό dataset θα μπορούσαμε να κάνουμε και εξαρχής drop όλα τα instances που έχουν τουλάχιστον ένα missing value χωρίς να επηρεαστεί αρνητικά η απόδοση του μοντέλου.\n",
    "\n",
    "- **2nd step: classification**\n",
    "\n",
    "    Στο δεύτερο step έχουμε εναν decision tree classifier που μετά το preprocessing που έγινε στο 1ο step μπορεί να διαχειριστεί τα δεδομένα μας δημιουργώντας ένα αξιοπιστο μοντέλο\n",
    "\n",
    "**Parameter Optimization**: GridSearchCV\n",
    "\n",
    "   Με το GridSearchCV εκτελούμε 5-fold cross-validation για να βρούμε τις καλύτερες παραμέτρους για μοντέλο μας. Κάνουμε παραμετροποίηση τόσο στα χαρακτηριστικά του classifier(criterion, max_depth) όσο και στον τρόπο που αντικαθιστούμε τα αριθμητικά missing values(mean or median). Το evaluation γίνεται με βάση το accuracy που πετυχαίνει κάθε παραλλαγή του μοντέλου και το GridSearch μας επιστρέφει τις καλύτερες παραμέτρους.  \n",
    "    Με αυτές τις optimal παραμέτρους εκπαιδεύουμε τελικά τον classifier και κάνουμε predictions για τα test data.\n",
    "\n",
    "**Best Results achieved**: \n",
    "\n",
    "   - **Accuracy**:  0.8519098922624878\n",
    "\n",
    "   - **F1 Score**:  0.6428346456692914\n",
    "\n",
    "   \n"
   ]
  },
  {
   "cell_type": "markdown",
   "metadata": {
    "deletable": false,
    "editable": false,
    "nbgrader": {
     "cell_type": "markdown",
     "checksum": "8cef3f333ab449ed91b81ea96695e712",
     "grade": false,
     "grade_id": "cell-555d20216f9bbec2",
     "locked": true,
     "schema_version": 3,
     "solution": false,
     "task": false
    }
   },
   "source": [
    "## 3.0 Common Issues ## "
   ]
  },
  {
   "cell_type": "markdown",
   "metadata": {},
   "source": [
    "**3.0** Run the following code to define a DecisionTreeModel and load the **income** dataset only with the numerical variables. Then, answer the following questions. "
   ]
  },
  {
   "cell_type": "code",
   "execution_count": 10,
   "metadata": {
    "deletable": false,
    "editable": false,
    "nbgrader": {
     "cell_type": "code",
     "checksum": "ae0f57b86252cc38b02cac3d05e08bbf",
     "grade": false,
     "grade_id": "cell-d7f58621bad12aad",
     "locked": true,
     "schema_version": 3,
     "solution": false,
     "task": false
    }
   },
   "outputs": [],
   "source": [
    "# Load Data\n",
    "columns = ['age','fnlwgt','education_num','hours-per-week',\"capital-loss\",\"capital-gain\",\"income\"]\n",
    "data = pd.read_csv('income.csv',usecols=columns)\n",
    "data_test = pd.read_csv('income_test.csv',usecols=columns)\n",
    "# Convert target variable to 0 and 1\n",
    "data[\"income\"] = data[\"income\"].map({ \"<=50K\": 0, \">50K\": 1 })\n",
    "data_test[\"income\"] = data_test[\"income\"].map({ \"<=50K\": 0, \">50K\": 1 })\n",
    "# Create X and y\n",
    "X_train = data.drop([\"income\"],axis=1)\n",
    "y_train = data['income'].values\n",
    "X_test = data_test.drop([\"income\"],axis=1)\n",
    "y_test = data_test['income'].values\n",
    "# Classifier\n",
    "classifier = DecisionTreeClassifier(min_samples_leaf=4)"
   ]
  },
  {
   "cell_type": "markdown",
   "metadata": {
    "deletable": false,
    "editable": false,
    "nbgrader": {
     "cell_type": "markdown",
     "checksum": "c3981752b539236e99415ab6e2cbea1f",
     "grade": false,
     "grade_id": "cell-9b18d6c4e381a9f5",
     "locked": true,
     "schema_version": 3,
     "solution": false,
     "task": false
    }
   },
   "source": [
    "**3.1** Draw a learning curve for the classifer for the train and test set loaded above."
   ]
  },
  {
   "cell_type": "code",
   "execution_count": 11,
   "metadata": {
    "deletable": false,
    "nbgrader": {
     "cell_type": "code",
     "checksum": "cebb0d89b3a2b7b278e2494c37ac7c0f",
     "grade": true,
     "grade_id": "cell-905e7dceeb4172c3",
     "locked": false,
     "points": 5,
     "schema_version": 3,
     "solution": true,
     "task": false
    }
   },
   "outputs": [
    {
     "data": {
      "image/png": "[encoded data removed]",
      "text/plain": [
       "<Figure size 360x360 with 1 Axes>"
      ]
     },
     "metadata": {
      "needs_background": "light"
     },
     "output_type": "display_data"
    }
   ],
   "source": [
    "# BEGIN CODE HERE\n",
    "\n",
    "%matplotlib inline\n",
    "import matplotlib.pyplot as plt\n",
    "from sklearn.metrics import accuracy_score\n",
    "\n",
    "def learning_curve(classifier, X, y):\n",
    "    \n",
    "    total_train_samples = len(X)\n",
    "\n",
    "    # array of train scores\n",
    "    train_scores_list = []\n",
    "    # array of test scores\n",
    "    test_scores_list = []\n",
    "    # array of number of data samples used at each iteration\n",
    "    train_sizes = []\n",
    "    \n",
    "    # train iteratively multiple classifiers by adding 10% of total instances to the train data each time\n",
    "    for i in range(1,11):\n",
    "        \n",
    "        num_of_samples = int((i/10)* total_train_samples)\n",
    "        train_sizes.append(num_of_samples)\n",
    "        \n",
    "        # get i/10 of train data\n",
    "        X_train_sample = X[0:num_of_samples]\n",
    "        y_train_sample = y[0:num_of_samples]\n",
    "        \n",
    "        # train the classifier\n",
    "        classifier.fit(X_train_sample, y_train_sample)\n",
    "        \n",
    "        # make predictions for train data\n",
    "        y_train_pred = classifier.predict(X_train)\n",
    "        train_score = accuracy_score(y_train_pred, y_train)\n",
    "        train_scores_list.append(train_score)\n",
    "        \n",
    "        # make predictions for test data\n",
    "        y_test_pred = classifier.predict(X_test)\n",
    "        test_score = accuracy_score(y_test_pred, y_test)\n",
    "        test_scores_list.append(test_score)\n",
    "        \n",
    "\n",
    "    # Plot learning curves\n",
    "    plt.title(\"Learning Curves\")\n",
    "    \n",
    "    # grid type\n",
    "    plt.grid()\n",
    "    \n",
    "    # set y-axes limits\n",
    "    plt.ylim((0.7, 1.01))\n",
    "    \n",
    "    # set axes labels\n",
    "    plt.xlabel(\"Training examples\")\n",
    "    plt.ylabel(\"Accuracy Score\")\n",
    "    \n",
    "    # draw curves\n",
    "    plt.plot(train_sizes, train_scores_list, 'o-', color=\"r\", label=\"Training score\")\n",
    "    plt.plot(train_sizes, test_scores_list, 'o-', color=\"g\", label=\"Testing score\")\n",
    "    \n",
    "    # set legend\n",
    "    plt.legend(loc=\"best\")\n",
    "        \n",
    "    return plt\n",
    "\n",
    "# create a figure\n",
    "fig = plt.figure(figsize=(5, 5))\n",
    "\n",
    "# plot learning curves of the classifier\n",
    "curves = learning_curve(classifier, X_train, y_train)\n",
    "curves.show()\n",
    "\n",
    "#END CODE HERE"
   ]
  },
  {
   "cell_type": "markdown",
   "metadata": {
    "deletable": false,
    "editable": false,
    "nbgrader": {
     "cell_type": "markdown",
     "checksum": "361d4753f3c8491a34ff55b6fa3a49b5",
     "grade": false,
     "grade_id": "cell-1f23f3e27600f019",
     "locked": true,
     "schema_version": 3,
     "solution": false,
     "task": false
    }
   },
   "source": [
    "**3.2** Do you notice any problems with the classifier? If so, what can you do to change this."
   ]
  },
  {
   "cell_type": "markdown",
   "metadata": {
    "deletable": false,
    "nbgrader": {
     "cell_type": "markdown",
     "checksum": "baff993106fd2b655fd47d05c75ea4ce",
     "grade": true,
     "grade_id": "cell-d60d7e6175d184e9",
     "locked": false,
     "points": 5,
     "schema_version": 3,
     "solution": true,
     "task": false
    }
   },
   "source": [
    "Εκπαιδεύσαμε επαναληπτικά τον classifier προσθέτωντας κάθε φορά **10%** των συνολικών δεδομενων στο σύνολο εκπαιδευσης και κάναμε predictions πάνω στα X_train και X_test. Στον x άξονα φαίνεται το πλήθος των δεδομένων που χρησιμοποιήθηκαν για την εκπαίδευση ενώ στο y άξονα το **accuracy score** του μοντέλου σε κάθε περίπτωση.\n",
    "\n",
    "Όπως διακρίνουμε στις καμπύλες παραπάνω, η ακρίβεια για τα train δεδομένα αυξάνεται όσο προσθέτουμε περισσότερα δεδομένα στo train sample, ενώ χρησιμοποιώντας όλα τα διαθέσιμα δεδομένα το accuracy score φτάνει στο **90%**. Την ίδια στιγμή για τα test δεδομένα η ακρίβεια δεν ξεπερνάει το **80%** και μάλιστα παραμένει στα ίδια επίπεδα ανεξάτητα απο το πλήθος των train samples. Παρατηρούμε λοιπόν πως υπάρχει το φαινόμενο του **overfitting**. Όσο προσθέτουμε train data στο μοντέλο μας ο classifier κάνει όλο και καλύτερο fit πάνω σε αυτά, όμως την ίδια στιγμή δεν είναι το ίδιο αξιόπιστος πάνω σε άγνωστα δεδομένα όσο στα δεδομένα με τα όποια εκπαιδεύτηκε. Στόχος μας είναι να φτιάξουμε ένα πιο γενικευμένο μοντέλο που θα κάνει καλύτερες προβλέψεις πάνω σε νέα δεδομένα. \n",
    "\n",
    "Ο classifier που έχουμε χρησιμοποιήσει πιο πάνω είναι ο εξής: classifier = DecisionTreeClassifier(min_samples_leaf=4)\n",
    "\n",
    "Θα πρέπει να κάνουμε parameter tuning στις παραμέτρους **'max_depth', 'min_samples_leaf' και 'min_samples_split'** προκειμένου να βρούμε αυτές για τις οποιές το μοντέλο μας αποδίδει καλύτερα σε άγνωστα δεδομένα.\n",
    "\n",
    "Ένας τρόπος να το πετύχουμε αυτό είναι με το **GridSearchCV**.\n"
   ]
  },
  {
   "cell_type": "markdown",
   "metadata": {
    "deletable": false,
    "editable": false,
    "nbgrader": {
     "cell_type": "markdown",
     "checksum": "747645b33cb4f5c14796504fac6bf3ce",
     "grade": false,
     "grade_id": "cell-89715acd6c51b332",
     "locked": true,
     "schema_version": 3,
     "solution": false,
     "task": false
    }
   },
   "source": [
    "**3.3** Implement your solution using the cells below. Report your results and the process you followed. "
   ]
  },
  {
   "cell_type": "code",
   "execution_count": 12,
   "metadata": {
    "deletable": false,
    "nbgrader": {
     "cell_type": "code",
     "checksum": "53187b3e939fffed99cbba46e3639281",
     "grade": true,
     "grade_id": "cell-f44811f1e99ee41e",
     "locked": false,
     "points": 10,
     "schema_version": 3,
     "solution": true,
     "task": false
    }
   },
   "outputs": [
    {
     "name": "stdout",
     "output_type": "stream",
     "text": [
      "Best parameters:  {'criterion': 'gini', 'max_depth': 7, 'min_samples_leaf': 9, 'min_samples_split': 2}\n",
      "Accuracy:  0.8267058439438459\n"
     ]
    },
    {
     "data": {
      "image/png": "[encoded data removed]",
      "text/plain": [
       "<Figure size 360x360 with 1 Axes>"
      ]
     },
     "metadata": {
      "needs_background": "light"
     },
     "output_type": "display_data"
    }
   ],
   "source": [
    "# BEGIN CODE HERE\n",
    "%matplotlib inline\n",
    "\n",
    "from sklearn.model_selection import GridSearchCV\n",
    "from sklearn.metrics import accuracy_score, f1_score\n",
    "\n",
    "clf = DecisionTreeClassifier()\n",
    "\n",
    "param_grid = {\n",
    "    'max_depth': [x for x in range(1,10)],\n",
    "    'criterion' : ['gini', 'entropy'],\n",
    "    'min_samples_leaf':   [x for x in range(1,10)],\n",
    "    'min_samples_split':  [x for x in range(2,10)]\n",
    "}\n",
    "\n",
    "# 5-fold cross-validation \n",
    "grid_search = GridSearchCV(clf, param_grid, cv=5)\n",
    "\n",
    "# fit train data\n",
    "grid_search.fit(X_train, y_train)\n",
    "\n",
    "# print best parameters\n",
    "print(\"Best parameters: \", grid_search.best_params_)\n",
    "\n",
    "# predictions of X_test\n",
    "y_pred = grid_search.predict(X_test)\n",
    "\n",
    "final_score = accuracy_score(y_test, y_pred)\n",
    "print(\"Accuracy: \", final_score)\n",
    "\n",
    "# optimal classifier \n",
    "optimal_clf = grid_search.best_estimator_\n",
    "\n",
    "fig = plt.figure(figsize=(5, 5))\n",
    "\n",
    "# plot learnig curves for the optimal classifier\n",
    "new_curves = learning_curve(optimal_clf, X_train, y_train)\n",
    "new_curves.show()\n",
    "\n",
    "#END CODE HERE"
   ]
  },
  {
   "cell_type": "markdown",
   "metadata": {},
   "source": [
    "Έχοντας βρει με το GridSearchCV τον **optimal estimator** ως προς την ακρίβεια πάνω στο validation set σχεδίασα ξανά τις learning curves για το νέο μας μοντέλο.\n",
    "\n",
    "Όπως μπορούμε εύκολα να διακρίνουμε από το plot παραπάνω, τώρα οι καμπύλες είναι πολύ κοντά η μια με την άλλη οπότε καταφέραμε να εξαλείψουμε το φαινόμενο του **overfitting**. Μπορεί να ελαττώθηκε λίγο η ακρίβεια για τα train data, αλλά δεν υπάρχει σημαντική απόκλιση απο την αποδοση για τα test data, πράγμα που είναι και το ζητούμενο της Μηχανικής μάθησης σε real life εφαρμογές. Ως αποτέλεσμα, βλέπουμε πως το μοντέλο μας έχει γίνει πιο γενικευμένο και πιο αξιόπιστο σε άγνωστα δεδομένα για αυτό και υπερισχύει της προηγούμενης υλοποίησης. Η ακρίβεια στα test data είναι πλέον της τάξης του **83%**."
   ]
  },
  {
   "cell_type": "code",
   "execution_count": null,
   "metadata": {},
   "outputs": [],
   "source": []
  }
 ],
 "metadata": {
  "kernelspec": {
   "display_name": "Python 3",
   "language": "python",
   "name": "python3"
  },
  "language_info": {
   "codemirror_mode": {
    "name": "ipython",
    "version": 3
   },
   "file_extension": ".py",
   "mimetype": "text/x-python",
   "name": "python",
   "nbconvert_exporter": "python",
   "pygments_lexer": "ipython3",
   "version": "3.7.4"
  },
  "pycharm": {
   "stem_cell": {
    "cell_type": "raw",
    "metadata": {
     "collapsed": false
    },
    "source": []
   }
  }
 },
 "nbformat": 4,
 "nbformat_minor": 4
}
